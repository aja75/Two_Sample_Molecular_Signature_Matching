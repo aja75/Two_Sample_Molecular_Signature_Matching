{
 "cells": [
  {
   "cell_type": "code",
   "execution_count": 129,
   "id": "2e7b315b-59fd-4666-8dcd-38aef8dc4c22",
   "metadata": {},
   "outputs": [],
   "source": [
    "import numpy as np\n",
    "import pandas as pd\n",
    "import matplotlib.pyplot as plt\n",
    "import seaborn as sns\n",
    "from datetime import datetime\n",
    "from scipy import stats"
   ]
  },
  {
   "cell_type": "markdown",
   "id": "011f4ca1-1e1a-4964-b53b-371dfaba3ab7",
   "metadata": {},
   "source": [
    "#### Simulate Differential Expression Profiles"
   ]
  },
  {
   "cell_type": "code",
   "execution_count": 153,
   "id": "c58cc768-6ca8-4ae5-ab98-e31b1c2c0b73",
   "metadata": {},
   "outputs": [],
   "source": [
    "num_genes = 60000  # Number of unique genes\n",
    "gene_ids = [f\"Gene_{i}\" for i in range(1, num_genes + 1)]\n",
    "\n",
    "np.random.seed(42)  # For reproducibility\n",
    "log2fc_profile1 = np.random.normal(loc=0, scale=1, size=num_genes)  # Profile 1\n",
    "log2fc_profile2 = np.random.normal(loc=0, scale=1, size=num_genes)  # Profile 2\n",
    "\n",
    "# Create DataFrames for the profiles\n",
    "profile1 = pd.DataFrame({\n",
    "    \"Gene\": gene_ids,\n",
    "    \"log2FC\": log2fc_profile1\n",
    "})\n",
    "\n",
    "profile2 = pd.DataFrame({\n",
    "    \"Gene\": gene_ids,\n",
    "    \"log2FC\": log2fc_profile2\n",
    "})\n",
    "\n",
    "profile1.to_csv('DEG_Profile_1.csv', index=False)\n",
    "profile2.to_csv('DEG_Profile_2.csv', index=False)"
   ]
  },
  {
   "cell_type": "markdown",
   "id": "4cbef56d-643b-40a5-8316-742cec7d0892",
   "metadata": {},
   "source": [
    "<hr>"
   ]
  },
  {
   "cell_type": "markdown",
   "id": "a71da869-e6f0-48ea-a02e-4b0632afb88e",
   "metadata": {},
   "source": [
    "### f(x) read data"
   ]
  },
  {
   "cell_type": "code",
   "execution_count": 149,
   "id": "8d865c22-1dae-4cbc-a058-9c9cab247ab3",
   "metadata": {},
   "outputs": [],
   "source": [
    "def load_DEG_profile(path: str, gene_index_col: str):\n",
    "    \n",
    "    # imports .csv data and indexes based on gene index (user can make it ensembl id, gene symbol, etc)\n",
    "    df = pd.read_csv(path, low_memory=False, index_col=gene_index_col)\n",
    "    return df\n",
    "\n",
    "def map_to_binary(profile, metric: str, threshold: float, path: str):\n",
    "\n",
    "    # maps a metric to binary depending on the input threshold\n",
    "    profile['Binary_Notation'] = np.where(profile[metric] > threshold, 1,\n",
    "                                         np.where(profile[metric] < -threshold, -1, 0))\n",
    "\n",
    "    profile = profile['Binary_Notation']\n",
    "    profile.name = path.split(\".\")[0]\n",
    "    \n",
    "    # returns the proptions of each map\n",
    "    map_proportions = (profile.value_counts() / len(profile)) * 100\n",
    "    map_proportions.name = path.split(\".\")[0]\n",
    "    \n",
    "    return profile, map_proportions\n",
    "\n",
    "def prepare_DEG_Profiles(DEG_profiles_path: list, gene_index_col: str, metric: str, threshold: float):\n",
    "\n",
    "    DEG_Profiles = []\n",
    "    map_data = []\n",
    "    for path in DEG_profiles_path:\n",
    "        df = load_DEG_profile(path=path, gene_index_col=gene_index_col)\n",
    "        profile, map_proportions = map_to_binary(profile=df, metric=metric, threshold=threshold, path=path)\n",
    "\n",
    "        DEG_Profiles.append(profile)\n",
    "        map_data.append(map_proportions)\n",
    "\n",
    "    DEG_Profiles = pd.concat(DEG_Profiles, axis=1)\n",
    "    map_data = pd.concat(map_data, axis=1)\n",
    "\n",
    "    # computes basic statistics\n",
    "    map_data['Mean'] = map_data.mean(axis=1)\n",
    "    map_data['Std_Dev'] = map_data.drop(columns=['Mean']).std(axis=1)\n",
    "    map_data.to_csv(f'{datetime.now().strftime(\"%Y_%m_%d_%H_%M_%S\")}_MAPPING_PROPORTIONS.csv')\n",
    "\n",
    "    \n",
    "    return DEG_Profiles\n",
    "\n",
    "def do_MSM(DEG_Profiles):\n",
    "    \n",
    "    # Overlap is when both profiles have DEG != 0\n",
    "    DEG_Profiles['Overlap'] = np.where((DEG_Profiles.iloc[:, 0] != 0) & (DEG_Profiles.iloc[:, 1] != 0), True, False)\n",
    "\n",
    "    DEG_Overlap = (DEG_Profiles['Overlap'].value_counts()[True] / len(DEG_Profiles))\n",
    "\n",
    "    # Concordant is when overlap DEG is in the same direction\n",
    "    DEG_Profiles['Concordant'] = np.where(\n",
    "        (DEG_Profiles.iloc[:, 0] != 0) & (DEG_Profiles.iloc[:, 1] != 0) & \n",
    "        (DEG_Profiles.iloc[:, 0] == DEG_Profiles.iloc[:, 1]),\n",
    "        True,\n",
    "        False\n",
    "    )\n",
    "\n",
    "    # Disconcordant is when overlap DEG is in the opposite direction\n",
    "    DEG_Profiles['Disconcordant'] = np.where(\n",
    "        (DEG_Profiles.iloc[:, 0] != 0) & (DEG_Profiles.iloc[:, 1] != 0) & \n",
    "        (DEG_Profiles.iloc[:, 0] != DEG_Profiles.iloc[:, 1]),\n",
    "        True,\n",
    "        False\n",
    "    )\n",
    "\n",
    "    Concordance = ((DEG_Profiles['Concordant'].value_counts()[True] - DEG_Profiles['Disconcordant'].value_counts()[True]) / DEG_Profiles['Overlap'].value_counts()[True])\n",
    "    \n",
    "    return Concordance, DEG_Overlap\n",
    "\n",
    "def do_MSM_permutation(DEG_Profiles, n_permutations: int, test_column_index: int):\n",
    "\n",
    "    # saves the observed concordance and overlap\n",
    "    observed_concordance, DEG_Overlap = do_MSM(DEG_Profiles)\n",
    "\n",
    "    # creates a distribution of concordance values by shuffling the test vector\n",
    "    permutation_matrix = DEG_Profiles.copy()\n",
    "    permuted_concordance_values = np.array([observed_concordance])\n",
    "    for iteration in range(n_permutations):\n",
    "        permutation_matrix.iloc[:, test_column_index] = np.random.permutation(DEG_Profiles.iloc[:, test_column_index])\n",
    "\n",
    "        permuted_concordance, _ = do_MSM(permutation_matrix)\n",
    "        permuted_concordance_values = np.append(permuted_concordance_values, permuted_concordance)\n",
    "\n",
    "    # converts into a standard normal distribution and returns observed p-value (always first bc this method only appends)\n",
    "    permuted_concordance_values = (permuted_concordance_values - permuted_concordance_values.mean()) / permuted_concordance_values.std()\n",
    "    p_value = 2 * (1 - stats.norm.cdf(abs(permuted_concordance_values[0])))\n",
    "    \n",
    "    return DEG_Overlap, observed_concordance, p_value\n",
    "\n",
    "\n",
    "def main(DEG_profiles_path: list, gene_index_col: str, metric:str, threshold: float, n_permutations: int, test_column_index:int, significance_threshold: float):\n",
    "    df = prepare_DEG_Profiles(DEG_profiles_path=DEG_profiles_path, \n",
    "                              gene_index_col=gene_index_col, \n",
    "                              metric=metric, \n",
    "                              threshold=threshold)\n",
    "    \n",
    "    DEG_Overlap, observed_concordance, p_value = do_MSM_permutation(DEG_Profiles=df, \n",
    "                                                                    n_permutations=n_permutations, \n",
    "                                                                    test_column_index=test_column_index)\n",
    "    \n",
    "    print(f'DEG_Overlap: {DEG_Overlap * 100:.2f}% | Concordance: {observed_concordance * 100:.2f}% | p-value: {p_value:.4f} | {\"Not Significant\" if p_value > significance_threshold else 'Significant'}')"
   ]
  },
  {
   "cell_type": "code",
   "execution_count": 160,
   "id": "e0b79562-c728-46d3-ac2c-a06f7980ef01",
   "metadata": {},
   "outputs": [
    {
     "name": "stdout",
     "output_type": "stream",
     "text": [
      "DEG_Overlap: 10.01% | Concordance: -1.36% | p-value: 0.2860 | Not Significant\n",
      "CPU times: total: 29.4 s\n",
      "Wall time: 29.4 s\n"
     ]
    }
   ],
   "source": [
    "%%time\n",
    "main(DEG_profiles_path=['DEG_Profile_1.csv', 'DEG_Profile_2.csv'],\n",
    "    gene_index_col='Gene',\n",
    "    metric='log2FC',\n",
    "    threshold=1,\n",
    "    n_permutations=10_000,\n",
    "    test_column_index=1,\n",
    "    significance_threshold=0.05)"
   ]
  },
  {
   "cell_type": "markdown",
   "id": "1641f18b-d7f2-413a-a9ce-5f1acb056479",
   "metadata": {},
   "source": [
    "n = 1 -> 95.3 ms (0.3173)\n",
    "n = 10 -> 113ms (0.1712)\n",
    "n = 100 -> 359ms (0.3400)\n",
    "n = 1,000 -> 2900ms (0.2416)\n",
    "n = 10,000 -> 29,400ms (0.2860)"
   ]
  }
 ],
 "metadata": {
  "kernelspec": {
   "display_name": "Python 3 (ipykernel)",
   "language": "python",
   "name": "python3"
  },
  "language_info": {
   "codemirror_mode": {
    "name": "ipython",
    "version": 3
   },
   "file_extension": ".py",
   "mimetype": "text/x-python",
   "name": "python",
   "nbconvert_exporter": "python",
   "pygments_lexer": "ipython3",
   "version": "3.12.2"
  }
 },
 "nbformat": 4,
 "nbformat_minor": 5
}
